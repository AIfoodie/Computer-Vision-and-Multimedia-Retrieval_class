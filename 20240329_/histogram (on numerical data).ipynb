{
 "cells": [
  {
   "cell_type": "code",
   "execution_count": 309,
   "metadata": {},
   "outputs": [
    {
     "name": "stdout",
     "output_type": "stream",
     "text": [
      "data =  [8 0 0 3 1 2 0 0 9 9 4 8 7 7 1 8 5 6 7 4 8 5 4 8 3 7 9 4 7 5 2 3 4 6 8 2 2\n",
      " 2 1 4 8 6 2 6 2 7 4 2 0 0]\n",
      "max(data) =  9 , min(data) =  0\n",
      "frequency =  [6 3 8 3 7 3 4 6 7 3]\n",
      "frequency[4] =  7\n"
     ]
    },
    {
     "data": {
      "image/png": "[encoded data removed]",
      "text/plain": [
       "<Figure size 432x288 with 1 Axes>"
      ]
     },
     "metadata": {
      "needs_background": "light"
     },
     "output_type": "display_data"
    }
   ],
   "source": [
    "# Evaluate the frequency of occurrence of each item in a dataset\n",
    "import numpy as np  \n",
    "# Generate a 50D array of ints between 0 and 9, inclusive:\n",
    "data = np.random.randint(10, size= (50))\n",
    "print(\"data = \", data)\n",
    "print(\"max(data) = \", max(data),\", min(data) = \", min(data))\n",
    "frequency = np.zeros((10,), dtype=int)\n",
    "\n",
    "for item in data:\n",
    "    frequency[item] += 1\n",
    "    \n",
    "print (\"frequency = \",frequency)\n",
    "print (\"frequency[4] = \",frequency[4])\n",
    "\n",
    "plt.hist(data, bins= (0,1,2,3,4,5,6,7,8,9,10), edgecolor= \"black\", color=\"blue\")\n",
    "plt.xlabel('value')\n",
    "plt.ylabel('frequency')\n",
    "plt.show() "
   ]
  },
  {
   "cell_type": "code",
   "execution_count": 310,
   "metadata": {
    "scrolled": true
   },
   "outputs": [
    {
     "name": "stdout",
     "output_type": "stream",
     "text": [
      "data =  [9 7 6 6 8 6 8 1 9 5 4 8 3 1 1 2 9 1 8 2 3 3 9 6 8 6 5 9 1 5 5 3 2 0 2 5 7\n",
      " 7 0 0 8 4 5 9 3 1 5 3 7 9]\n",
      "max(data) =  9 , min(data) =  0\n",
      "frequency =  [ 9 10  9  9 13]\n",
      "frequency[3] =  9\n"
     ]
    },
    {
     "data": {
      "image/png": "[encoded data removed]",
      "text/plain": [
       "<Figure size 432x288 with 1 Axes>"
      ]
     },
     "metadata": {
      "needs_background": "light"
     },
     "output_type": "display_data"
    }
   ],
   "source": [
    "# Evaluate the frequency of occurrence of each item in a dataset\n",
    "import numpy as np  \n",
    "# Generate a 50D array of ints between 0 and 9, inclusive:\n",
    "data = np.random.randint(10, size= (50))\n",
    "print(\"data = \", data)\n",
    "print(\"max(data) = \", max(data),\", min(data) = \", min(data))\n",
    "frequency = np.zeros((5,), dtype=int)\n",
    "# 0,1 -> 0; 2,3 -> 1; 4,5 -> 2;\n",
    "# 6,7 -> 3; 8,9 -> 4;\n",
    "for item in data:\n",
    "    if (item >= 0 and item <= 1): \n",
    "       frequency[0] += 1\n",
    "    if (item >= 2 and item <= 3): \n",
    "       frequency[1] += 1\n",
    "    if (item >= 4 and item <= 5): \n",
    "       frequency[2] += 1 \n",
    "    if (item >= 6 and item <= 7): \n",
    "       frequency[3] += 1 \n",
    "    if (item >= 8 and item <= 9): \n",
    "       frequency[4] += 1\n",
    "print (\"frequency = \",frequency)\n",
    "print (\"frequency[3] = \",frequency[3]) \n",
    "\n",
    "import numpy as np\n",
    "import matplotlib.pyplot as plt \n",
    "data = np.random.randint(10, size= (50))\n",
    "\n",
    "# plotting labelled histogram\n",
    "plt.hist(data, bins= (0,2,4,6,8,10), edgecolor= \"black\", color=\"blue\")\n",
    "plt.xlabel('value')\n",
    "plt.ylabel('frequency')\n",
    "plt.show() "
   ]
  },
  {
   "cell_type": "code",
   "execution_count": 311,
   "metadata": {},
   "outputs": [
    {
     "name": "stdout",
     "output_type": "stream",
     "text": [
      "data =  [7 0 5 2 3 6 9 5 6 9 0 7 3 1 2 1 0 9 9 3 2 1 8 7 5 3 8 3 4 3 4 4 3 2 7 9 8\n",
      " 2 3 6 7 1 3 0 4 0 4 1 9 4]\n",
      "max(data) =  9 , min(data) =  0\n",
      "frequency =  [10 14  9  8  9]\n",
      "frequency[3] =  8\n"
     ]
    }
   ],
   "source": [
    "# Evaluate the frequency of occurrence of each item in a dataset\n",
    "import numpy as np  \n",
    "# Generate a 50D array of ints between 0 and 9, inclusive:\n",
    "data = np.random.randint(10, size= (50))\n",
    "print(\"data = \", data)\n",
    "print(\"max(data) = \", max(data),\", min(data) = \", min(data))\n",
    "frequency = np.zeros((5,), dtype=int)\n",
    "# 0,1 -> 0; 2,3 -> 1; 4,5 -> 2;\n",
    "# 6,7 -> 3; 8,9 -> 4;\n",
    "for item in data:\n",
    "    frequency[item//2] += 1 # //: floor division (or integer division)\n",
    "print (\"frequency = \",frequency)\n",
    "print (\"frequency[3] = \",frequency[3]) "
   ]
  },
  {
   "cell_type": "code",
   "execution_count": null,
   "metadata": {},
   "outputs": [],
   "source": []
  },
  {
   "cell_type": "code",
   "execution_count": 312,
   "metadata": {},
   "outputs": [
    {
     "data": {
      "text/plain": [
       "{'b': 'boy', 'd': 'girl', 'c': 'boy', 'a': 'girl'}"
      ]
     },
     "execution_count": 312,
     "metadata": {},
     "output_type": "execute_result"
    }
   ],
   "source": [
    "dic ={'b':'boy','d':'girl','c':'boy', 'a':'girl'}\n",
    "dic"
   ]
  },
  {
   "cell_type": "markdown",
   "metadata": {},
   "source": [
    "dic ={'b':'boy','d':'girl','c':'boy', 'a':'girl'}\n",
    "dic"
   ]
  },
  {
   "cell_type": "code",
   "execution_count": 313,
   "metadata": {},
   "outputs": [
    {
     "name": "stdout",
     "output_type": "stream",
     "text": [
      "['Eve', 'Alice', 'Bob']\n"
     ]
    },
    {
     "data": {
      "text/plain": [
       "[(0, 'Eve'), (1, 'Alice'), (2, 'Bob')]"
      ]
     },
     "execution_count": 313,
     "metadata": {},
     "output_type": "execute_result"
    }
   ],
   "source": [
    "names = [\"Eve\", \"Alice\", \"Bob\"]\n",
    "print(names)\n",
    "list(enumerate(names))\n",
    "#print(list(enumerate(names)))    # 從0開始列舉(預設值為0)"
   ]
  },
  {
   "cell_type": "code",
   "execution_count": 314,
   "metadata": {},
   "outputs": [
    {
     "data": {
      "text/plain": [
       "[(1, 'Eve'), (2, 'Alice'), (3, 'Bob')]"
      ]
     },
     "execution_count": 314,
     "metadata": {},
     "output_type": "execute_result"
    }
   ],
   "source": [
    "list(enumerate(names, start=1))       # 從1開始列舉"
   ]
  },
  {
   "cell_type": "code",
   "execution_count": 315,
   "metadata": {},
   "outputs": [
    {
     "name": "stdout",
     "output_type": "stream",
     "text": [
      "['Eve', 'Alice', 'Bob']\n",
      "0 Eve\n",
      "1 Alice\n",
      "2 Bob\n"
     ]
    }
   ],
   "source": [
    "i = 0\n",
    "names = [\"Eve\", \"Alice\", \"Bob\"]\n",
    "print (names)\n",
    "for name in  names: \n",
    "    print (i, name)\n",
    "    i +=1"
   ]
  },
  {
   "cell_type": "code",
   "execution_count": 316,
   "metadata": {},
   "outputs": [
    {
     "name": "stdout",
     "output_type": "stream",
     "text": [
      "0 Eve\n",
      "1 Alice\n",
      "2 Bob\n"
     ]
    }
   ],
   "source": [
    "names = (\"Eve\", \"Alice\", \"Bob\")\n",
    "for i, element in enumerate(names):\n",
    "    print (i, element)"
   ]
  },
  {
   "cell_type": "code",
   "execution_count": 317,
   "metadata": {},
   "outputs": [
    {
     "name": "stdout",
     "output_type": "stream",
     "text": [
      "['Eve', 'Alice', 'Bob']\n"
     ]
    }
   ],
   "source": [
    "i = 0\n",
    "#s = [\"one\", \"two\", \"three\"]\n",
    "names = [\"Eve\", \"Alice\", \"Bob\"]\n",
    "print (names)"
   ]
  },
  {
   "cell_type": "code",
   "execution_count": 318,
   "metadata": {},
   "outputs": [
    {
     "data": {
      "image/png": "[encoded data removed]",
      "text/plain": [
       "<Figure size 432x288 with 1 Axes>"
      ]
     },
     "metadata": {
      "needs_background": "light"
     },
     "output_type": "display_data"
    }
   ],
   "source": [
    "import numpy as np\n",
    "import matplotlib.pyplot as plt \n",
    "data = np.random.randint(10, size= (50))\n",
    "\n",
    "# plotting labelled histogram\n",
    "plt.hist(data, bins=10, edgecolor='black')\n",
    "plt.xlabel('value')\n",
    "plt.ylabel('frequency')\n",
    "plt.show() "
   ]
  },
  {
   "cell_type": "code",
   "execution_count": 319,
   "metadata": {},
   "outputs": [
    {
     "data": {
      "image/png": "[encoded data removed]",
      "text/plain": [
       "<Figure size 432x288 with 1 Axes>"
      ]
     },
     "metadata": {
      "needs_background": "light"
     },
     "output_type": "display_data"
    }
   ],
   "source": [
    "import numpy as np\n",
    "import matplotlib.pyplot as plt \n",
    "data = np.random.randint(10, size= (50))\n",
    "\n",
    "# plotting labelled histogram\n",
    "plt.hist(data, bins= 5, edgecolor= \"yellow\", color=\"green\")\n",
    "plt.xlabel('value')\n",
    "plt.ylabel('frequency')\n",
    "plt.show() "
   ]
  },
  {
   "cell_type": "markdown",
   "metadata": {},
   "source": [
    "import numpy as np\n",
    "import matplotlib.pyplot as plt \n",
    "data = np.random.randint(10, size= (50))\n",
    "\n",
    "# plotting labelled histogram\n",
    "plt.hist(data, bins= 5, edgecolor= \"yellow\", color=\"green\")\n",
    "plt.xlabel('value')\n",
    "plt.ylabel('frequency')\n",
    "plt.show() "
   ]
  },
  {
   "cell_type": "code",
   "execution_count": 320,
   "metadata": {},
   "outputs": [
    {
     "data": {
      "image/png": "[encoded data removed]",
      "text/plain": [
       "<Figure size 432x288 with 1 Axes>"
      ]
     },
     "metadata": {
      "needs_background": "light"
     },
     "output_type": "display_data"
    }
   ],
   "source": [
    "# https://www.geeksforgeeks.org/how-to-plot-histogram-from-list-of-data-in-matplotlib/\n",
    "\n",
    "import matplotlib.pyplot as plt \n",
    "# list of weights\n",
    "weights = [30, 35, 50, 45, 80, 49, 76, 55,\n",
    "           45, 47, 50, 64, 63, 65]\n",
    " \n",
    "# plotting labelled histogram\n",
    "plt.hist(weights, bins=5, edgecolor='black')\n",
    "plt.xlabel('weight')\n",
    "plt.ylabel('Person count')\n",
    "plt.show()"
   ]
  },
  {
   "cell_type": "code",
   "execution_count": 321,
   "metadata": {},
   "outputs": [
    {
     "data": {
      "image/png": "[encoded data removed]",
      "text/plain": [
       "<Figure size 432x288 with 1 Axes>"
      ]
     },
     "metadata": {
      "needs_background": "light"
     },
     "output_type": "display_data"
    }
   ],
   "source": [
    "import matplotlib.pyplot as plt\n",
    " \n",
    "# list of weights\n",
    "weights = [30, 35, 50, 45, 80, 49, 76, 55,\n",
    "           45, 47, 50, 64, 63, 65]\n",
    "bin_edges = [30, 40, 50, 60, 70, 80]\n",
    "plt.hist(weights, bins=bin_edges, edgecolor='black')\n",
    "plt.xlabel('weight')\n",
    "plt.ylabel('Person count')\n",
    "plt.show()"
   ]
  },
  {
   "cell_type": "code",
   "execution_count": 322,
   "metadata": {},
   "outputs": [
    {
     "data": {
      "image/png": "[encoded data removed]",
      "text/plain": [
       "<Figure size 432x288 with 1 Axes>"
      ]
     },
     "metadata": {
      "needs_background": "light"
     },
     "output_type": "display_data"
    }
   ],
   "source": [
    "import matplotlib.pyplot as plt\n",
    " \n",
    "# list of weights\n",
    "weights = [30, 35, 50, 45, 80, 49, 76, 55,\n",
    "           45, 47, 50, 64, 63, 65]\n",
    "\n",
    "plt.hist(weights, bins=4)\n",
    "plt.xlabel('weight')\n",
    "plt.ylabel('Person count')\n",
    "plt.show()"
   ]
  },
  {
   "cell_type": "code",
   "execution_count": 323,
   "metadata": {},
   "outputs": [
    {
     "data": {
      "image/png": "[encoded data removed]",
      "text/plain": [
       "<Figure size 432x288 with 1 Axes>"
      ]
     },
     "metadata": {
      "needs_background": "light"
     },
     "output_type": "display_data"
    }
   ],
   "source": [
    "import matplotlib.pyplot as plt\n",
    " \n",
    "# list of weights\n",
    "weights = [30, 35, 50, 45, 80, 49, 76, 55,\n",
    "           45, 47, 50, 64, 63, 65]\n",
    "bin_edges = [30, 40, 50, 60, 70, 80]\n",
    "plt.hist(weights, bins=bin_edges, edgecolor='black')\n",
    "plt.xlabel('weight')\n",
    "plt.ylabel('Person count')\n",
    "plt.show()"
   ]
  },
  {
   "cell_type": "code",
   "execution_count": 324,
   "metadata": {},
   "outputs": [
    {
     "data": {
      "image/png": "[encoded data removed]",
      "text/plain": [
       "<Figure size 432x288 with 1 Axes>"
      ]
     },
     "metadata": {
      "needs_background": "light"
     },
     "output_type": "display_data"
    }
   ],
   "source": [
    "import matplotlib.pyplot as plt\n",
    " \n",
    "# list of weights\n",
    "weights = [30, 35, 50, 45, 80, 49, 76, 55,\n",
    "           45, 47, 50, 64, 63, 65]\n",
    "bin_edges = [30, 40, 50, 70, 80]\n",
    "plt.hist(weights, bins=bin_edges, edgecolor='black')\n",
    "plt.xlabel('weight')\n",
    "plt.ylabel('Person count')\n",
    "plt.show()"
   ]
  },
  {
   "cell_type": "code",
   "execution_count": 325,
   "metadata": {},
   "outputs": [
    {
     "data": {
      "image/png": "[encoded data removed]",
      "text/plain": [
       "<Figure size 432x288 with 1 Axes>"
      ]
     },
     "metadata": {
      "needs_background": "light"
     },
     "output_type": "display_data"
    }
   ],
   "source": [
    "import matplotlib.pyplot as plt\n",
    " \n",
    "# list of weights\n",
    "weights = [30, 35, 50, 45, 80, 49, 76, 55,\n",
    "           45, 47, 50, 64, 63, 65]\n",
    "bin_edges = [30, 40, 50, 60]\n",
    "plt.hist(weights, bins=bin_edges, edgecolor='black')\n",
    "plt.xlabel('weight')\n",
    "plt.ylabel('Person count')\n",
    "plt.show()"
   ]
  },
  {
   "cell_type": "code",
   "execution_count": 326,
   "metadata": {
    "scrolled": true
   },
   "outputs": [
    {
     "data": {
      "image/png": "[encoded data removed]",
      "text/plain": [
       "<Figure size 432x288 with 1 Axes>"
      ]
     },
     "metadata": {
      "needs_background": "light"
     },
     "output_type": "display_data"
    }
   ],
   "source": [
    "import matplotlib.pyplot as plt\n",
    " \n",
    "# list of weights\n",
    "weights = [30, 35, 50, 45, 80, 49, 76, 55,\n",
    "           45, 47, 50, 64, 63, 65]\n",
    "\n",
    "# plotting labelled histogram\n",
    "plt.hist(weights, edgecolor='black')\n",
    "plt.xlabel('weight')\n",
    "plt.ylabel('Person count')\n",
    "plt.show()"
   ]
  },
  {
   "cell_type": "code",
   "execution_count": 327,
   "metadata": {},
   "outputs": [
    {
     "name": "stdout",
     "output_type": "stream",
     "text": [
      "30\n",
      "38\n",
      "46\n",
      "54\n",
      "62\n",
      "70\n",
      "78\n",
      "86\n"
     ]
    },
    {
     "data": {
      "image/png": "[encoded data removed]",
      "text/plain": [
       "<Figure size 432x288 with 1 Axes>"
      ]
     },
     "metadata": {
      "needs_background": "light"
     },
     "output_type": "display_data"
    }
   ],
   "source": [
    "import matplotlib.pyplot as plt\n",
    " \n",
    "# list of weights\n",
    "weights = [30, 35, 50, 45, 80, 49, 76, 55,\n",
    "           45, 47, 50, 64, 63, 65]\n",
    "\n",
    "binwidth = 8\n",
    "bin_edges = range(min(weights), max(weights)+binwidth, binwidth) # range(30, 88, 8)\n",
    "for i in bin_edges: # 印出bin_edges包含的8個數值,將區間[30, 86]分歌成7個bins, \n",
    "                    # 分別為[30,38),[38,46),[46,54],..., [78, 86].\n",
    "    print(i) \n",
    "# plotting labelled histogram\n",
    "plt.hist(weights, bins=bin_edges, edgecolor='black')\n",
    "plt.xlabel('weight')\n",
    "plt.ylabel('Person count')\n",
    "plt.show()"
   ]
  },
  {
   "cell_type": "code",
   "execution_count": 328,
   "metadata": {},
   "outputs": [
    {
     "data": {
      "image/png": "[encoded data removed]",
      "text/plain": [
       "<Figure size 432x288 with 1 Axes>"
      ]
     },
     "metadata": {
      "needs_background": "light"
     },
     "output_type": "display_data"
    }
   ],
   "source": [
    "import matplotlib.pyplot as plt \n",
    "  \n",
    "data = [1, 2, 2, 2, 2, 2, 4, 4, 5] \n",
    "bin_edges =[1,2,3,4,5,6] #共四個區間, 第1區間包含1,第2區間包含2,第3區間包含3,第4區間包含4,第5區間包含5和6\n",
    "plt.hist(data, bins=bin_edges, edgecolor='black')  #繪出histogram,用高度表示每個區間內數值的總數\n",
    "plt.show() \n"
   ]
  },
  {
   "cell_type": "markdown",
   "metadata": {},
   "source": [
    "Any way to create histogram with matplotlib.pyplot without plotting the histogram?https://stackoverflow.com/questions/17348548/any-way-to-create-histogram-with-matplotlib-pyplot-without-plotting-the-histogra\n",
    "    "
   ]
  },
  {
   "cell_type": "code",
   "execution_count": 329,
   "metadata": {},
   "outputs": [
    {
     "data": {
      "image/png": "[encoded data removed]",
      "text/plain": [
       "<Figure size 432x288 with 1 Axes>"
      ]
     },
     "metadata": {
      "needs_background": "light"
     },
     "output_type": "display_data"
    }
   ],
   "source": [
    "import matplotlib.pyplot as plt \n",
    "  \n",
    "data = [1, 2, 2, 2, 2, 2, 4, 4, 5] \n",
    "plt.hist(data, bins=5, edgecolor='black')  #直接指明bins(bars)的個數\n",
    "plt.show()"
   ]
  },
  {
   "cell_type": "code",
   "execution_count": 330,
   "metadata": {},
   "outputs": [
    {
     "name": "stdout",
     "output_type": "stream",
     "text": [
      "32 2 10 8\n",
      "2\n",
      "5\n",
      "8\n",
      "11\n"
     ]
    },
    {
     "data": {
      "image/png": "[encoded data removed]",
      "text/plain": [
       "<Figure size 432x288 with 1 Axes>"
      ]
     },
     "metadata": {
      "needs_background": "light"
     },
     "output_type": "display_data"
    }
   ],
   "source": [
    "import matplotlib.pyplot as plt \n",
    "  \n",
    "data = [2, 2, 2, 2, 2, 3, 3, 3, 3, 4, \n",
    "        4, 4, 4, 4, 5, 5, 5, 5, 6, \n",
    "        6, 6, 6, 8, 8, 8, 9, \n",
    "        9, 9, 10, 10, 10, 10] \n",
    "data = np.array(data)\n",
    "print(data.size, min(data), max(data), max(data)-min(data)) \n",
    "binwidth = 3\n",
    "bin = range(min(data), max(data) + binwidth, binwidth)\n",
    "for i in bin: #印出bin包含的數值: 2, 5, 8, 11; #分成3個區間, 第1區間[2,5),第2區間[5,8),第3區間8,11],第3區間有包含11\n",
    "    print(i) \n",
    "    \n",
    "#plt.hist(data, bins=bin) \n",
    "plt.hist(data, bins=bin, edgecolor=\"yellow\", color=\"brown\")   \n",
    "plt.show() "
   ]
  },
  {
   "cell_type": "code",
   "execution_count": 331,
   "metadata": {},
   "outputs": [
    {
     "name": "stdout",
     "output_type": "stream",
     "text": [
      "32 2 10 8\n",
      "2\n",
      "5\n",
      "8\n",
      "11\n"
     ]
    },
    {
     "data": {
      "image/png": "[encoded data removed]",
      "text/plain": [
       "<Figure size 432x288 with 1 Axes>"
      ]
     },
     "metadata": {
      "needs_background": "light"
     },
     "output_type": "display_data"
    },
    {
     "name": "stdout",
     "output_type": "stream",
     "text": [
      "[13  0  0  0  0  0  0  0  0  0]\n"
     ]
    }
   ],
   "source": [
    "import matplotlib.pyplot as plt \n",
    "  \n",
    "data = [2, 2, 2, 2, 2, 3, 3, 3, 3, 4, \n",
    "        4, 4, 4, 4, 5, 5, 5, 5, 6, \n",
    "        6, 6, 6, 8, 8, 8, 9, \n",
    "        9, 9, 10, 10, 10, 10] \n",
    "data = np.array(data)\n",
    "print(data.size, min(data), max(data), max(data)-min(data)) \n",
    "binwidth = 3\n",
    "bin = range(min(data), max(data) + binwidth, binwidth)\n",
    "for i in bin: #印出bin包含的數值: 2, 5, 8, 11; #分成3個區間, 第1區間[2,5),第2區間[5,8),第3區間8,11],第3區間有包含11\n",
    "    print(i) \n",
    "    \n",
    "#plt.hist(data, bins=bin) \n",
    "plt.hist(data, bins=bin, edgecolor=\"yellow\", color=\"brown\")   \n",
    "plt.show() \n",
    "print(hist) "
   ]
  },
  {
   "cell_type": "code",
   "execution_count": 332,
   "metadata": {},
   "outputs": [
    {
     "name": "stdout",
     "output_type": "stream",
     "text": [
      "51 145 94\n"
     ]
    },
    {
     "data": {
      "image/png": "[encoded data removed]",
      "text/plain": [
       "<Figure size 432x288 with 1 Axes>"
      ]
     },
     "metadata": {
      "needs_background": "light"
     },
     "output_type": "display_data"
    },
    {
     "name": "stdout",
     "output_type": "stream",
     "text": [
      "51\n",
      "59\n",
      "67\n",
      "75\n",
      "83\n",
      "91\n",
      "99\n",
      "107\n",
      "115\n",
      "123\n",
      "131\n",
      "139\n",
      "147\n"
     ]
    }
   ],
   "source": [
    "# https://www.geeksforgeeks.org/bin-size-in-matplotlib-histogram/\n",
    "import matplotlib.pyplot as plt \n",
    "  \n",
    "data = [87, 53, 66, 61, 67, 68, 62, 110, \n",
    "        104, 61, 111, 123, 117, 119, 116, \n",
    "        104, 92, 111, 90, 103, 81, 80, 101, \n",
    "        51, 79, 107, 110, 129, 145, 128,  \n",
    "        132, 135, 131, 126, 139, 110] \n",
    "print(min(data), max(data), max(data)-min(data)) \n",
    "\n",
    "binwidth = 8\n",
    "plt.hist(data, bins=range(min(data), max(data) + binwidth, binwidth), \n",
    "         edgecolor=\"yellow\", color=\"brown\") \n",
    "  \n",
    "plt.show() \n",
    "for i in range(min(data), max(data) + binwidth, binwidth):\n",
    "    print(i)"
   ]
  },
  {
   "cell_type": "code",
   "execution_count": 333,
   "metadata": {},
   "outputs": [
    {
     "name": "stdout",
     "output_type": "stream",
     "text": [
      "(100,)\n",
      "2\n",
      "4\n",
      "6\n",
      "8\n",
      "2\n",
      "4\n",
      "6\n",
      "8\n"
     ]
    }
   ],
   "source": [
    "# https://datatofish.com/plot-histogram-python/\n",
    "import matplotlib.pyplot as plt\n",
    "import numpy as np \n",
    "\n",
    "# 建立一個長度為100的陣列, 裡面含有100個數值\n",
    "\n",
    "x = [1, 1, 2, 3, 3, 5, 7, 8, 9, 10,\n",
    "     10, 11, 11, 13, 13, 15, 16, 17, 18, 18,\n",
    "     18, 19, 20, 21, 21, 23, 24, 24, 25, 25,\n",
    "     25, 25, 26, 26, 26, 27, 27, 27, 27, 27,\n",
    "     29, 30, 30, 31, 33, 34, 34, 34, 35, 36,\n",
    "     36, 37, 37, 38, 38, 39, 40, 41, 41, 42,\n",
    "     43, 44, 45, 45, 46, 47, 48, 48, 49, 50,\n",
    "     51, 52, 53, 54, 55, 55, 56, 57, 58, 60,\n",
    "     61, 63, 64, 65, 66, 68, 70, 71, 72, 74,\n",
    "     75, 77, 81, 83, 84, 87, 89, 90, 90, 91\n",
    "     ]\n",
    "x = np.array(x)\n",
    "print(x.shape)\n",
    "\n",
    "r1 = range(2, 9, 2)\n",
    "for i in r1:\n",
    "    print(i)\n",
    "r2 = range(2, 10, 2)\n",
    "for i in r2:\n",
    "    print(i)    "
   ]
  },
  {
   "cell_type": "code",
   "execution_count": 334,
   "metadata": {
    "scrolled": false
   },
   "outputs": [
    {
     "name": "stdout",
     "output_type": "stream",
     "text": [
      "(100,) 1 91\n"
     ]
    },
    {
     "data": {
      "image/png": "[encoded data removed]",
      "text/plain": [
       "<Figure size 432x288 with 1 Axes>"
      ]
     },
     "metadata": {
      "needs_background": "light"
     },
     "output_type": "display_data"
    }
   ],
   "source": [
    "# https://datatofish.com/plot-histogram-python/\n",
    "import matplotlib.pyplot as plt\n",
    "import numpy as np \n",
    "\n",
    "x = [1, 1, 2, 3, 3, 5, 7, 8, 9, 10,\n",
    "     10, 11, 11, 13, 13, 15, 16, 17, 18, 18,\n",
    "     18, 19, 20, 21, 21, 23, 24, 24, 25, 25,\n",
    "     25, 25, 26, 26, 26, 27, 27, 27, 27, 27,\n",
    "     29, 30, 30, 31, 33, 34, 34, 34, 35, 36,\n",
    "     36, 37, 37, 38, 38, 39, 40, 41, 41, 42,\n",
    "     43, 44, 45, 45, 46, 47, 48, 48, 49, 50,\n",
    "     51, 52, 53, 54, 55, 55, 56, 57, 58, 60,\n",
    "     61, 63, 64, 65, 66, 68, 70, 71, 72, 74,\n",
    "     75, 77, 81, 83, 84, 87, 89, 90, 90, 91\n",
    "     ]\n",
    "x = np.array(x)\n",
    "print(x.shape, min(x), max(x))\n",
    "plt.hist(x, bins=10) #1~91之間均分出10個intervals, 所以interval寬度為9\n",
    "# intervals: [1,10), [10, 19), [19,28),....[82,91]\n",
    "plt.show()\n",
    "    "
   ]
  },
  {
   "cell_type": "code",
   "execution_count": 335,
   "metadata": {},
   "outputs": [
    {
     "name": "stdout",
     "output_type": "stream",
     "text": [
      "11\n",
      "[-3.  -2.4 -1.8 -1.2 -0.6  0.   0.6  1.2  1.8  2.4  3. ]\n"
     ]
    },
    {
     "data": {
      "image/png": "[encoded data removed]",
      "text/plain": [
       "<Figure size 432x288 with 1 Axes>"
      ]
     },
     "metadata": {
      "needs_background": "light"
     },
     "output_type": "display_data"
    }
   ],
   "source": [
    "# https://juejin.cn/s/python%20histogram%20bins%20float\n",
    "# bin值為floatin no之範例\n",
    "import numpy as np\n",
    "import matplotlib.pyplot as plt\n",
    "\n",
    "# #在N(0,1)分布隨機取樣1000個點\n",
    "data = np.random.normal(0, 1, 1000) #在N(0,1)分布隨機取樣1000個點\n",
    "\n",
    "# 指定 bin 的範圍和數量\n",
    "bin_edges = np.linspace(-3, 3, 11) \n",
    "\n",
    "print(bin_edges.size)\n",
    "print(bin_edges)\n",
    "plt.hist(data, bins=bin_edges) # 繪出histogram\n",
    "\n",
    "plt.show() # 顯示圖形"
   ]
  },
  {
   "cell_type": "code",
   "execution_count": 338,
   "metadata": {},
   "outputs": [
    {
     "name": "stdout",
     "output_type": "stream",
     "text": [
      "32\n",
      "[  0.           8.25806452  16.51612903  24.77419355  33.03225806\n",
      "  41.29032258  49.5483871   57.80645161  66.06451613  74.32258065\n",
      "  82.58064516  90.83870968  99.09677419 107.35483871 115.61290323\n",
      " 123.87096774 132.12903226 140.38709677 148.64516129 156.90322581\n",
      " 165.16129032 173.41935484 181.67741935 189.93548387 198.19354839\n",
      " 206.4516129  214.70967742 222.96774194 231.22580645 239.48387097\n",
      " 247.74193548 256.        ]\n"
     ]
    },
    {
     "data": {
      "image/png": "[encoded data removed]",
      "text/plain": [
       "<Figure size 432x288 with 1 Axes>"
      ]
     },
     "metadata": {
      "needs_background": "light"
     },
     "output_type": "display_data"
    }
   ],
   "source": [
    "import numpy as np\n",
    "import matplotlib.pyplot as plt\n",
    "\n",
    "data = np.random.randint(256, size=1000) \n",
    "#在[0,1000)區間隨機取樣1000個整數\n",
    "\n",
    "# 指定 bin 的範圍和數量\n",
    "bin_edges = np.linspace(0, 256, 32) \n",
    "print(bin_edges.size)\n",
    "#print(bin_edges)\n",
    "plt.hist(data, bins=bin_edges) # 繪出histogram\n",
    "\n",
    "plt.show() # 顯示圖形"
   ]
  },
  {
   "attachments": {},
   "cell_type": "markdown",
   "metadata": {},
   "source": [
    "#n = number of observations = x.shape =100\n",
    "#Range = maximum value – minimum value = 91 – 1 = 90\n",
    "#Number of intervals =  √n = √100 = 10\n",
    "#Width of intervals =  Range / (Number of intervals) = 90/10 = 9"
   ]
  },
  {
   "cell_type": "code",
   "execution_count": 337,
   "metadata": {},
   "outputs": [
    {
     "name": "stdout",
     "output_type": "stream",
     "text": [
      "a= (1, 3, 7, 7, 2, 3, 4, 7, 6, 6, 3, 5, 2)\n",
      "\n",
      " [  0  10  20  30  40  50  60  70  80  90 100]\n",
      "\n",
      " hist =  [13  0  0  0  0  0  0  0  0  0]\n",
      "\n",
      " 以上分別為range(0,10)內值個數, range(10,20)之間值個數, range(20,30)之間值個數, ..., range(90,100)之間值個數\n",
      "\n",
      " cum_hist =  [13 13 13 13 13 13 13 13 13 13]\n",
      "hist[0] = 13 hist[1] = 0\n"
     ]
    },
    {
     "data": {
      "image/png": "[encoded data removed]",
      "text/plain": [
       "<Figure size 432x288 with 1 Axes>"
      ]
     },
     "metadata": {
      "needs_background": "light"
     },
     "output_type": "display_data"
    }
   ],
   "source": [
    "# Import libraries\n",
    "import numpy as np  \n",
    "import cv2\n",
    "import matplotlib.pyplot as plt\n",
    "# Creating dataset\n",
    "#Generate a 50D array of ints between 0 and 99, inclusive:\n",
    "data = np.random.randint(100, size =(50))\n",
    "print(\"a=\", a)\n",
    "        \n",
    "# Creating histogram for a\n",
    "# The function hThe function has two return values: hist which gives the array of values of the histogram, and \n",
    "#  edge_bin which is an array of float datatype containing the bin edges having length one more than \n",
    "#  the hist.\n",
    "\n",
    "# printing histogram\n",
    "bins = [0, 10, 20, 30, 40, 50, 60, 70, 80, 90,100]\n",
    "hist, bins = np.histogram(a, bins)\n",
    "#hist, bins = np.histogram(a, bins = [0, 10, 20, 30, 40, 50, 60, 70, 80, 90,100])\n",
    "\n",
    "cum_hist = np.cumsum(hist)               \n",
    " \n",
    "print (\"\\n\", bins) \n",
    "print (\"\\n\", \"hist = \",hist) #直方圖之值, 分別為0~9之間值個數, 10~19之間值個數, 20~29之間值個數, ..., 90~99之間值個數\n",
    "print(\"\\n\",\"以上分別為range(0,10)內值個數, range(10,20)之間值個數, range(20,30)之間值個數, ..., range(90,100)之間值個數\")\n",
    "print (\"\\n\", \"cum_hist = \", cum_hist) #累積直方圖之值\n",
    "print(\"hist[0] =\", hist[0],\"hist[1] =\", hist[1])\n",
    "\n",
    "# 繪製直方圖(長條圖)\n",
    "plt.hist(data, bins=bins, color='skyblue', alpha=0.8)\n",
    "\n",
    "# 設置圖表屬性\n",
    "plt.title('Data hist() Test')\n",
    "plt.xlabel('Value')\n",
    "plt.ylabel('Frequency')\n",
    "\n",
    "# 顯示圖表\n",
    "plt.show()"
   ]
  }
 ],
 "metadata": {
  "kernelspec": {
   "display_name": "Python 3",
   "language": "python",
   "name": "python3"
  },
  "language_info": {
   "codemirror_mode": {
    "name": "ipython",
    "version": 3
   },
   "file_extension": ".py",
   "mimetype": "text/x-python",
   "name": "python",
   "nbconvert_exporter": "python",
   "pygments_lexer": "ipython3",
   "version": "3.7.3"
  }
 },
 "nbformat": 4,
 "nbformat_minor": 2
}
