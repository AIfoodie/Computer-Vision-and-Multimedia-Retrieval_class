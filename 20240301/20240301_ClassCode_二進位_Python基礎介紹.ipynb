{
 "cells": [
  {
   "cell_type": "markdown",
   "id": "300f8208",
   "metadata": {},
   "source": [
    "## 練習"
   ]
  },
  {
   "cell_type": "markdown",
   "id": "b1e6633a",
   "metadata": {},
   "source": [
    "### 印出49到147的奇數"
   ]
  },
  {
   "cell_type": "code",
   "execution_count": 6,
   "id": "cc8a5a86",
   "metadata": {},
   "outputs": [
    {
     "name": "stdout",
     "output_type": "stream",
     "text": [
      "49\n",
      "51\n",
      "53\n",
      "55\n",
      "57\n",
      "59\n",
      "61\n",
      "63\n",
      "65\n",
      "67\n",
      "69\n",
      "71\n",
      "73\n",
      "75\n",
      "77\n",
      "79\n",
      "81\n",
      "83\n",
      "85\n",
      "87\n",
      "89\n",
      "91\n",
      "93\n",
      "95\n",
      "97\n",
      "99\n",
      "101\n",
      "103\n",
      "105\n",
      "107\n",
      "109\n",
      "111\n",
      "113\n",
      "115\n",
      "117\n",
      "119\n",
      "121\n",
      "123\n",
      "125\n",
      "127\n",
      "129\n",
      "131\n",
      "133\n",
      "135\n",
      "137\n",
      "139\n",
      "141\n",
      "143\n",
      "145\n",
      "147\n"
     ]
    }
   ],
   "source": [
    "for i in range(48,148):\n",
    "    if i % 2 != 0:\n",
    "        print(i)"
   ]
  },
  {
   "cell_type": "markdown",
   "id": "4a49f92b",
   "metadata": {},
   "source": [
    "### a = 座號\n",
    "### x = [\"系\", 學號, 年齡（.0 or .5）, a]\n",
    "### 用for loop, range, len等函數只印出學號跟座號"
   ]
  },
  {
   "cell_type": "code",
   "execution_count": 21,
   "id": "449582fe",
   "metadata": {},
   "outputs": [
    {
     "name": "stdout",
     "output_type": "stream",
     "text": [
      "學號: 410770605\n",
      "年齡: 20.5\n"
     ]
    }
   ],
   "source": [
    "a = 30\n",
    "x = [\"人工智慧學系｜AI系\", 410770605, 20.5, a]\n",
    "#print(x)\n",
    "\n",
    "for i in range(len(x)-1):\n",
    "    if type(x[i]) == int:\n",
    "        print(\"學號:\", x[i])\n",
    "    elif type(x[i]) == float:\n",
    "        print(\"年齡:\", x[i])"
   ]
  },
  {
   "cell_type": "markdown",
   "id": "5c5fd8e6",
   "metadata": {},
   "source": [
    "### 練習"
   ]
  },
  {
   "cell_type": "code",
   "execution_count": 23,
   "id": "5db61bf5",
   "metadata": {},
   "outputs": [
    {
     "data": {
      "text/plain": [
       "'0b1110110'"
      ]
     },
     "execution_count": 23,
     "metadata": {},
     "output_type": "execute_result"
    }
   ],
   "source": [
    "# 求出 118的二進位值\n",
    "bin(118)"
   ]
  },
  {
   "cell_type": "code",
   "execution_count": 33,
   "id": "0355ed23",
   "metadata": {},
   "outputs": [
    {
     "data": {
      "text/plain": [
       "78"
      ]
     },
     "execution_count": 33,
     "metadata": {},
     "output_type": "execute_result"
    }
   ],
   "source": [
    "# 求出二進位「1001110」的十進位值\n",
    "int('0b1001110', 2)"
   ]
  },
  {
   "cell_type": "code",
   "execution_count": null,
   "id": "f252bfdf",
   "metadata": {},
   "outputs": [],
   "source": []
  }
 ],
 "metadata": {
  "kernelspec": {
   "display_name": "Python 3",
   "language": "python",
   "name": "python3"
  },
  "language_info": {
   "codemirror_mode": {
    "name": "ipython",
    "version": 3
   },
   "file_extension": ".py",
   "mimetype": "text/x-python",
   "name": "python",
   "nbconvert_exporter": "python",
   "pygments_lexer": "ipython3",
   "version": "3.8.8"
  }
 },
 "nbformat": 4,
 "nbformat_minor": 5
}
